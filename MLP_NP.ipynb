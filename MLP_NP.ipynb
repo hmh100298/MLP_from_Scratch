{
  "nbformat": 4,
  "nbformat_minor": 0,
  "metadata": {
    "colab": {
      "name": "MLP_NP.ipynb",
      "provenance": [],
      "authorship_tag": "ABX9TyNEAO4IR7TvhIG4JZ36ZmEe",
      "include_colab_link": true
    },
    "kernelspec": {
      "name": "python3",
      "display_name": "Python 3"
    },
    "language_info": {
      "name": "python"
    }
  },
  "cells": [
    {
      "cell_type": "markdown",
      "metadata": {
        "id": "view-in-github",
        "colab_type": "text"
      },
      "source": [
        "<a href=\"https://colab.research.google.com/github/hmh100298/MLP_from_Scratch/blob/main/MLP_NP.ipynb\" target=\"_parent\"><img src=\"https://colab.research.google.com/assets/colab-badge.svg\" alt=\"Open In Colab\"/></a>"
      ]
    },
    {
      "cell_type": "code",
      "metadata": {
        "id": "gW7kh0zhnUC7"
      },
      "source": [
        "import numpy as np\n",
        "np.random.seed(42)"
      ],
      "execution_count": 2,
      "outputs": []
    },
    {
      "cell_type": "code",
      "metadata": {
        "id": "yTCNycqgnhcp"
      },
      "source": [
        "class Layer:\n",
        "  def __init__(self):\n",
        "    pass\n",
        "\n",
        "  def forward(self, input):\n",
        "    return input\n",
        "\n",
        "  def backward(self, input, grad_output): #  d loss / d x  = (d loss / d layer) * (d layer / d x)\n",
        "    num_units = input.shape[1]   # so phan tu axis 1\n",
        "    d_layer_d_input = np.eye(num_units) # eye: tao ma tran don vi \n",
        "    return np.dot(grad_output, d_layer_d_input)\n",
        "\n",
        "class ReLU(Layer):\n",
        "  def __init__(self):\n",
        "    pass\n",
        "  def forward(self, input):\n",
        "        \"\"\"Apply elementwise ReLU to [batch, input_units] matrix\"\"\"\n",
        "        relu_forward = np.maximum(0,input)\n",
        "        return relu_forward\n",
        "    \n",
        "  def backward(self, input, grad_output):\n",
        "        \"\"\"Compute gradient of loss w.r.t. ReLU input\"\"\"\n",
        "        relu_grad = input > 0\n",
        "        return grad_output*relu_grad\n",
        "      \n",
        "class Dense(Layer):\n",
        "  def __init__(self, input_units, output_units, learning_rate=0.1):\n",
        "    self.learning_rate = learning_rate\n",
        "    self.weights = np.random(loc = 0.0, scale = np.sqrt(2/(input_units+ output_units)), size = (input_units,output_units))\n",
        "    "
      ],
      "execution_count": 3,
      "outputs": []
    },
    {
      "cell_type": "code",
      "metadata": {
        "colab": {
          "base_uri": "https://localhost:8080/"
        },
        "id": "etl3X_zbsAv6",
        "outputId": "81f97363-7ca0-4aaf-d862-4d6598ffc88e"
      },
      "source": [
        "input = np.array([[1, 2, 3], [-1, -2, 4]])\n",
        "relu = np.maximum(0,input)\n",
        "relu_grad = input > 0\n",
        "print(input)\n",
        "print(relu_grad)\n",
        "print(relu_grad*relu)"
      ],
      "execution_count": 22,
      "outputs": [
        {
          "output_type": "stream",
          "text": [
            "[[ 1  2  3]\n",
            " [-1 -2  4]]\n",
            "[[ True  True  True]\n",
            " [False False  True]]\n",
            "[[1 2 3]\n",
            " [0 0 4]]\n"
          ],
          "name": "stdout"
        }
      ]
    }
  ]
}